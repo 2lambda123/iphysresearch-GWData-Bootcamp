{
 "cells": [
  {
   "cell_type": "markdown",
   "id": "4d4a5227-acdf-4c73-b829-c4687bd017ba",
   "metadata": {},
   "source": [
    "# Pandas quiz"
   ]
  },
  {
   "cell_type": "markdown",
   "id": "65763c38-432e-4e12-9820-ee096247a2fd",
   "metadata": {},
   "source": [
    "## 1.\n",
    "\n",
    "Selecting a single column from a DataFrame returns?\n",
    "\n",
    "```text\n",
    "A: Another DataFrame\n",
    "B: A series\n",
    "C: A numpy array\n",
    "D: A list\n",
    "```"
   ]
  },
  {
   "cell_type": "code",
   "execution_count": 4,
   "id": "96823f1e",
   "metadata": {},
   "outputs": [
    {
     "data": {
      "text/html": [
       "<div>\n",
       "<style scoped>\n",
       "    .dataframe tbody tr th:only-of-type {\n",
       "        vertical-align: middle;\n",
       "    }\n",
       "\n",
       "    .dataframe tbody tr th {\n",
       "        vertical-align: top;\n",
       "    }\n",
       "\n",
       "    .dataframe thead th {\n",
       "        text-align: right;\n",
       "    }\n",
       "</style>\n",
       "<table border=\"1\" class=\"dataframe\">\n",
       "  <thead>\n",
       "    <tr style=\"text-align: right;\">\n",
       "      <th></th>\n",
       "      <th>A</th>\n",
       "      <th>B</th>\n",
       "      <th>C</th>\n",
       "    </tr>\n",
       "  </thead>\n",
       "  <tbody>\n",
       "    <tr>\n",
       "      <th>0</th>\n",
       "      <td>20</td>\n",
       "      <td>80</td>\n",
       "      <td>140</td>\n",
       "    </tr>\n",
       "    <tr>\n",
       "      <th>1</th>\n",
       "      <td>40</td>\n",
       "      <td>100</td>\n",
       "      <td>160</td>\n",
       "    </tr>\n",
       "    <tr>\n",
       "      <th>2</th>\n",
       "      <td>60</td>\n",
       "      <td>120</td>\n",
       "      <td>180</td>\n",
       "    </tr>\n",
       "  </tbody>\n",
       "</table>\n",
       "</div>"
      ],
      "text/plain": [
       "    A    B    C\n",
       "0  20   80  140\n",
       "1  40  100  160\n",
       "2  60  120  180"
      ]
     },
     "execution_count": 4,
     "metadata": {},
     "output_type": "execute_result"
    }
   ],
   "source": [
    "import pandas as pd\n",
    "\n",
    "# Creating a DataFrame\n",
    "data = {'A': [1, 2, 3],\n",
    "        'B': [4, 5, 6],\n",
    "        'C': [7, 8, 9]}\n",
    "\n",
    "df = pd.DataFrame(data)\n",
    "\n",
    "# Multiplying the DataFrame by 20\n",
    "result_df = df * 20\n",
    "\n",
    "result_df"
   ]
  },
  {
   "cell_type": "markdown",
   "id": "7f01bb1c-69c0-4904-8afc-bf0a0c474cfe",
   "metadata": {},
   "source": [
    "## 2.\n",
    "\n",
    "What happens when you multiply a DataFrame like df*20?\n",
    "\n",
    "```text\n",
    "A: Returns a DataFrame with rows doubled\n",
    "B: Returns a DataFrame with columns doubled\n",
    "C: Raises a bad operand type error\n",
    "D: Returns a DataFrame with element-wise application of df*20\n",
    "```"
   ]
  },
  {
   "cell_type": "markdown",
   "id": "5984099c-2a54-4a7d-8c04-36fa6a166619",
   "metadata": {
    "tags": []
   },
   "source": [
    "## 3.\n",
    "\n",
    "Which of these commands will sort DataFrame df by column name?\n",
    "\n",
    "\n",
    "```text\n",
    "A: df.sort_index()\n",
    "B: df.sort()\n",
    "C: df.sort_index(axis=1)\n",
    "D: df.sort(axis=‘columns’)\n",
    "```"
   ]
  },
  {
   "cell_type": "code",
   "execution_count": 6,
   "id": "65296d0d",
   "metadata": {},
   "outputs": [
    {
     "name": "stdout",
     "output_type": "stream",
     "text": [
      "Original DataFrame:\n",
      "      Name  Age           City\n",
      "0    Alice   25       New York\n",
      "1      Bob   30  San Francisco\n",
      "2  Charlie   35    Los Angeles\n",
      "\n",
      "DataFrame sorted by column names:\n",
      "   Age           City     Name\n",
      "0   25       New York    Alice\n",
      "1   30  San Francisco      Bob\n",
      "2   35    Los Angeles  Charlie\n"
     ]
    }
   ],
   "source": [
    "# Creating a DataFrame\n",
    "data = {'Name': ['Alice', 'Bob', 'Charlie'],\n",
    "        'Age': [25, 30, 35],\n",
    "        'City': ['New York', 'San Francisco', 'Los Angeles']}\n",
    "\n",
    "df = pd.DataFrame(data)\n",
    "\n",
    "# Display the original DataFrame\n",
    "print(\"Original DataFrame:\")\n",
    "print(df)\n",
    "\n",
    "# Sort the DataFrame by column names\n",
    "sorted_df = df.sort_index(axis=1)\n",
    "\n",
    "# Display the sorted DataFrame\n",
    "print(\"\\nDataFrame sorted by column names:\")\n",
    "print(sorted_df)"
   ]
  },
  {
   "cell_type": "markdown",
   "id": "63420722-b473-4036-84e4-0b5ee31d3070",
   "metadata": {
    "tags": []
   },
   "source": [
    "## 4.\n",
    "\n",
    "A series is a one-dimensional array which is labelled and can hold any datatype.\n",
    "\n",
    "```text\n",
    "A: True\n",
    "B: False\n",
    "```"
   ]
  },
  {
   "cell_type": "markdown",
   "id": "b7d0a980-8eb5-4963-9ac0-afa99b0b77fb",
   "metadata": {
    "tags": []
   },
   "source": [
    "## 5.\n",
    "\n",
    "Which method iterates over DataFrame columns, returning a tuple with the column name and the content as a Series?\n",
    "\n",
    "```text\n",
    "A: iterrows()\n",
    "B: iteritems()\n",
    "C: mod()\n",
    "D: None of the above\n",
    "```"
   ]
  },
  {
   "cell_type": "code",
   "execution_count": 11,
   "id": "8a55204a",
   "metadata": {},
   "outputs": [
    {
     "data": {
      "text/html": [
       "<div>\n",
       "<style scoped>\n",
       "    .dataframe tbody tr th:only-of-type {\n",
       "        vertical-align: middle;\n",
       "    }\n",
       "\n",
       "    .dataframe tbody tr th {\n",
       "        vertical-align: top;\n",
       "    }\n",
       "\n",
       "    .dataframe thead th {\n",
       "        text-align: right;\n",
       "    }\n",
       "</style>\n",
       "<table border=\"1\" class=\"dataframe\">\n",
       "  <thead>\n",
       "    <tr style=\"text-align: right;\">\n",
       "      <th></th>\n",
       "      <th>Name</th>\n",
       "      <th>Age</th>\n",
       "      <th>City</th>\n",
       "    </tr>\n",
       "  </thead>\n",
       "  <tbody>\n",
       "    <tr>\n",
       "      <th>0</th>\n",
       "      <td>Alice</td>\n",
       "      <td>25</td>\n",
       "      <td>New York</td>\n",
       "    </tr>\n",
       "    <tr>\n",
       "      <th>1</th>\n",
       "      <td>Bob</td>\n",
       "      <td>30</td>\n",
       "      <td>San Francisco</td>\n",
       "    </tr>\n",
       "    <tr>\n",
       "      <th>2</th>\n",
       "      <td>Charlie</td>\n",
       "      <td>35</td>\n",
       "      <td>Los Angeles</td>\n",
       "    </tr>\n",
       "  </tbody>\n",
       "</table>\n",
       "</div>"
      ],
      "text/plain": [
       "      Name  Age           City\n",
       "0    Alice   25       New York\n",
       "1      Bob   30  San Francisco\n",
       "2  Charlie   35    Los Angeles"
      ]
     },
     "execution_count": 11,
     "metadata": {},
     "output_type": "execute_result"
    }
   ],
   "source": [
    "# Creating a DataFrame\n",
    "data = {'Name': ['Alice', 'Bob', 'Charlie'],\n",
    "        'Age': [25, 30, 35],\n",
    "        'City': ['New York', 'San Francisco', 'Los Angeles']}\n",
    "\n",
    "df = pd.DataFrame(data)\n",
    "df"
   ]
  },
  {
   "cell_type": "code",
   "execution_count": 12,
   "id": "a9082689",
   "metadata": {},
   "outputs": [
    {
     "name": "stdout",
     "output_type": "stream",
     "text": [
      "Name 0      Alice\n",
      "1        Bob\n",
      "2    Charlie\n",
      "Name: Name, dtype: object\n",
      "Age 0    25\n",
      "1    30\n",
      "2    35\n",
      "Name: Age, dtype: int64\n",
      "City 0         New York\n",
      "1    San Francisco\n",
      "2      Los Angeles\n",
      "Name: City, dtype: object\n"
     ]
    }
   ],
   "source": [
    "# Iterate over DataFrame columns\n",
    "for column_name, series in df.items():\n",
    "    print(column_name,series)"
   ]
  },
  {
   "cell_type": "markdown",
   "id": "3e3412c4-3ec1-4b16-a5d2-376865c43618",
   "metadata": {
    "tags": []
   },
   "source": [
    "## 6\n",
    "\n",
    "How do you convert the datatype of a column ‘x’ in df from an object to an integer?\n",
    "\n",
    "```text\n",
    "A: df[‘x’].astype(‘integer’)\n",
    "B: int(df[‘x’])\n",
    "C: df[‘x’].int\n",
    "D: df[‘x’].astype(int)\n",
    "```"
   ]
  },
  {
   "cell_type": "markdown",
   "id": "b8ec996e",
   "metadata": {},
   "source": []
  },
  {
   "cell_type": "code",
   "execution_count": 22,
   "id": "5b0e4c9e",
   "metadata": {},
   "outputs": [],
   "source": [
    "df['Age']=df['Age'].astype(float)"
   ]
  },
  {
   "cell_type": "code",
   "execution_count": 23,
   "id": "a478b9c3",
   "metadata": {},
   "outputs": [
    {
     "data": {
      "text/html": [
       "<div>\n",
       "<style scoped>\n",
       "    .dataframe tbody tr th:only-of-type {\n",
       "        vertical-align: middle;\n",
       "    }\n",
       "\n",
       "    .dataframe tbody tr th {\n",
       "        vertical-align: top;\n",
       "    }\n",
       "\n",
       "    .dataframe thead th {\n",
       "        text-align: right;\n",
       "    }\n",
       "</style>\n",
       "<table border=\"1\" class=\"dataframe\">\n",
       "  <thead>\n",
       "    <tr style=\"text-align: right;\">\n",
       "      <th></th>\n",
       "      <th>Name</th>\n",
       "      <th>Age</th>\n",
       "      <th>City</th>\n",
       "    </tr>\n",
       "  </thead>\n",
       "  <tbody>\n",
       "    <tr>\n",
       "      <th>0</th>\n",
       "      <td>Alice</td>\n",
       "      <td>25.0</td>\n",
       "      <td>New York</td>\n",
       "    </tr>\n",
       "    <tr>\n",
       "      <th>1</th>\n",
       "      <td>Bob</td>\n",
       "      <td>30.0</td>\n",
       "      <td>San Francisco</td>\n",
       "    </tr>\n",
       "    <tr>\n",
       "      <th>2</th>\n",
       "      <td>Charlie</td>\n",
       "      <td>35.0</td>\n",
       "      <td>Los Angeles</td>\n",
       "    </tr>\n",
       "  </tbody>\n",
       "</table>\n",
       "</div>"
      ],
      "text/plain": [
       "      Name   Age           City\n",
       "0    Alice  25.0       New York\n",
       "1      Bob  30.0  San Francisco\n",
       "2  Charlie  35.0    Los Angeles"
      ]
     },
     "execution_count": 23,
     "metadata": {},
     "output_type": "execute_result"
    }
   ],
   "source": [
    "df"
   ]
  },
  {
   "cell_type": "markdown",
   "id": "d73b87e6-3aa7-4d3b-be16-beed285c99a4",
   "metadata": {
    "tags": []
   },
   "source": [
    "## 7.\n",
    "\n",
    "By default, the pandas dropna() method returns a new DataFrame and will not change the original.\n",
    "\n",
    "```text\n",
    "A: True\n",
    "B: False\n",
    "```"
   ]
  },
  {
   "cell_type": "code",
   "execution_count": 24,
   "id": "8ada1477",
   "metadata": {},
   "outputs": [],
   "source": [
    "data = {'A': [1, 2, None, 4],\n",
    "        'B': [5, None, 7, 8]}\n",
    "\n",
    "df = pd.DataFrame(data)"
   ]
  },
  {
   "cell_type": "code",
   "execution_count": 25,
   "id": "9f8d8b04",
   "metadata": {},
   "outputs": [
    {
     "data": {
      "text/html": [
       "<div>\n",
       "<style scoped>\n",
       "    .dataframe tbody tr th:only-of-type {\n",
       "        vertical-align: middle;\n",
       "    }\n",
       "\n",
       "    .dataframe tbody tr th {\n",
       "        vertical-align: top;\n",
       "    }\n",
       "\n",
       "    .dataframe thead th {\n",
       "        text-align: right;\n",
       "    }\n",
       "</style>\n",
       "<table border=\"1\" class=\"dataframe\">\n",
       "  <thead>\n",
       "    <tr style=\"text-align: right;\">\n",
       "      <th></th>\n",
       "      <th>A</th>\n",
       "      <th>B</th>\n",
       "    </tr>\n",
       "  </thead>\n",
       "  <tbody>\n",
       "    <tr>\n",
       "      <th>0</th>\n",
       "      <td>1.0</td>\n",
       "      <td>5.0</td>\n",
       "    </tr>\n",
       "    <tr>\n",
       "      <th>1</th>\n",
       "      <td>2.0</td>\n",
       "      <td>NaN</td>\n",
       "    </tr>\n",
       "    <tr>\n",
       "      <th>2</th>\n",
       "      <td>NaN</td>\n",
       "      <td>7.0</td>\n",
       "    </tr>\n",
       "    <tr>\n",
       "      <th>3</th>\n",
       "      <td>4.0</td>\n",
       "      <td>8.0</td>\n",
       "    </tr>\n",
       "  </tbody>\n",
       "</table>\n",
       "</div>"
      ],
      "text/plain": [
       "     A    B\n",
       "0  1.0  5.0\n",
       "1  2.0  NaN\n",
       "2  NaN  7.0\n",
       "3  4.0  8.0"
      ]
     },
     "execution_count": 25,
     "metadata": {},
     "output_type": "execute_result"
    }
   ],
   "source": [
    "df"
   ]
  },
  {
   "cell_type": "code",
   "execution_count": 26,
   "id": "96afbdba",
   "metadata": {},
   "outputs": [
    {
     "data": {
      "text/html": [
       "<div>\n",
       "<style scoped>\n",
       "    .dataframe tbody tr th:only-of-type {\n",
       "        vertical-align: middle;\n",
       "    }\n",
       "\n",
       "    .dataframe tbody tr th {\n",
       "        vertical-align: top;\n",
       "    }\n",
       "\n",
       "    .dataframe thead th {\n",
       "        text-align: right;\n",
       "    }\n",
       "</style>\n",
       "<table border=\"1\" class=\"dataframe\">\n",
       "  <thead>\n",
       "    <tr style=\"text-align: right;\">\n",
       "      <th></th>\n",
       "      <th>A</th>\n",
       "      <th>B</th>\n",
       "    </tr>\n",
       "  </thead>\n",
       "  <tbody>\n",
       "    <tr>\n",
       "      <th>0</th>\n",
       "      <td>1.0</td>\n",
       "      <td>5.0</td>\n",
       "    </tr>\n",
       "    <tr>\n",
       "      <th>3</th>\n",
       "      <td>4.0</td>\n",
       "      <td>8.0</td>\n",
       "    </tr>\n",
       "  </tbody>\n",
       "</table>\n",
       "</div>"
      ],
      "text/plain": [
       "     A    B\n",
       "0  1.0  5.0\n",
       "3  4.0  8.0"
      ]
     },
     "execution_count": 26,
     "metadata": {},
     "output_type": "execute_result"
    }
   ],
   "source": [
    "df.dropna()"
   ]
  },
  {
   "cell_type": "markdown",
   "id": "3553f3d4-0682-4161-a07f-3ebdc4c4e4c8",
   "metadata": {
    "tags": []
   },
   "source": [
    "## 8.\n",
    "\n",
    "What is a correct method to discover if a row is a duplicate?\n",
    "\n",
    "```text\n",
    "A: df.duplicates()\n",
    "B: df.duplicate()\n",
    "C: df.duplicated()\n",
    "D: df.delete_duplicates()\n",
    "```"
   ]
  },
  {
   "cell_type": "code",
   "execution_count": 1,
   "id": "f2b8b7a1",
   "metadata": {},
   "outputs": [
    {
     "name": "stdout",
     "output_type": "stream",
     "text": [
      "   Column1 Column2  is_duplicate\n",
      "0        1       A         False\n",
      "1        2       B         False\n",
      "2        3       C         False\n",
      "3        4       D         False\n",
      "4        2       B          True\n"
     ]
    }
   ],
   "source": [
    "import pandas as pd\n",
    "\n",
    "# Create a DataFrame (replace this with your actual DataFrame)\n",
    "data = {'Column1': [1, 2, 3, 4, 2],\n",
    "        'Column2': ['A', 'B', 'C', 'D', 'B']}\n",
    "df = pd.DataFrame(data)\n",
    "\n",
    "# Check for duplicate rows\n",
    "duplicate_rows = df.duplicated()\n",
    "\n",
    "# Display the DataFrame with an additional column indicating duplicates\n",
    "df['is_duplicate'] = duplicate_rows\n",
    "print(df)"
   ]
  },
  {
   "cell_type": "markdown",
   "id": "d545dbd2-45a6-4905-8252-f843f8a79c29",
   "metadata": {
    "tags": []
   },
   "source": [
    "## 9.\n",
    "\n",
    "```python\n",
    "import numpy as np\n",
    "\n",
    "a = np.array([[0, 1, 2], [3, 4, 5]])\n",
    "b = a.sum(axis=1)\n",
    "print (b)\n",
    "```\n",
    "\n",
    "上面代码的输出结果是？\n",
    "\n",
    "```text\n",
    "A: 3\n",
    "B: 12\n",
    "C: [3, 12]\n",
    "D: [3, 5, 7]\n",
    "E: An exception is thrown\n",
    "```"
   ]
  },
  {
   "cell_type": "code",
   "execution_count": 2,
   "id": "626c4b69",
   "metadata": {},
   "outputs": [
    {
     "name": "stdout",
     "output_type": "stream",
     "text": [
      "[ 3 12]\n"
     ]
    }
   ],
   "source": [
    "import numpy as np\n",
    "\n",
    "a = np.array([[0, 1, 2], [3, 4, 5]])\n",
    "b = a.sum(axis=1)\n",
    "print (b)"
   ]
  },
  {
   "cell_type": "markdown",
   "id": "3319b906-6cba-4b3b-ab9c-032ecd71027e",
   "metadata": {
    "tags": []
   },
   "source": [
    "## 10.\n",
    "\n",
    "Given DataFrame df with three columns x, y and z which of these would not return the rows where column x is greater than column y and column y is greater than column z?\n",
    "\n",
    "\n",
    "```text\n",
    "A: df.query(‘x>y & y>z’)\n",
    "B: df.query(‘(x>y)’ & ‘(y>z)’)\n",
    "C: df.query(‘x>y and y>z’)\n",
    "D: df.query(‘x>y>z’)\n",
    "```"
   ]
  },
  {
   "cell_type": "code",
   "execution_count": 3,
   "id": "1ca49064",
   "metadata": {},
   "outputs": [
    {
     "data": {
      "text/html": [
       "<div>\n",
       "<style scoped>\n",
       "    .dataframe tbody tr th:only-of-type {\n",
       "        vertical-align: middle;\n",
       "    }\n",
       "\n",
       "    .dataframe tbody tr th {\n",
       "        vertical-align: top;\n",
       "    }\n",
       "\n",
       "    .dataframe thead th {\n",
       "        text-align: right;\n",
       "    }\n",
       "</style>\n",
       "<table border=\"1\" class=\"dataframe\">\n",
       "  <thead>\n",
       "    <tr style=\"text-align: right;\">\n",
       "      <th></th>\n",
       "      <th>x</th>\n",
       "      <th>y</th>\n",
       "      <th>z</th>\n",
       "    </tr>\n",
       "  </thead>\n",
       "  <tbody>\n",
       "    <tr>\n",
       "      <th>0</th>\n",
       "      <td>5</td>\n",
       "      <td>3</td>\n",
       "      <td>2</td>\n",
       "    </tr>\n",
       "    <tr>\n",
       "      <th>1</th>\n",
       "      <td>8</td>\n",
       "      <td>6</td>\n",
       "      <td>7</td>\n",
       "    </tr>\n",
       "    <tr>\n",
       "      <th>2</th>\n",
       "      <td>10</td>\n",
       "      <td>9</td>\n",
       "      <td>8</td>\n",
       "    </tr>\n",
       "    <tr>\n",
       "      <th>3</th>\n",
       "      <td>12</td>\n",
       "      <td>15</td>\n",
       "      <td>11</td>\n",
       "    </tr>\n",
       "  </tbody>\n",
       "</table>\n",
       "</div>"
      ],
      "text/plain": [
       "    x   y   z\n",
       "0   5   3   2\n",
       "1   8   6   7\n",
       "2  10   9   8\n",
       "3  12  15  11"
      ]
     },
     "execution_count": 3,
     "metadata": {},
     "output_type": "execute_result"
    }
   ],
   "source": [
    "import pandas as pd\n",
    "\n",
    "# Creating a DataFrame\n",
    "data = {'x': [5, 8, 10, 12],\n",
    "        'y': [3, 6, 9, 15],\n",
    "        'z': [2, 7, 8, 11]}\n",
    "\n",
    "df = pd.DataFrame(data)\n",
    "\n",
    "df"
   ]
  },
  {
   "cell_type": "code",
   "execution_count": 9,
   "id": "0f9167b1",
   "metadata": {},
   "outputs": [
    {
     "data": {
      "text/html": [
       "<div>\n",
       "<style scoped>\n",
       "    .dataframe tbody tr th:only-of-type {\n",
       "        vertical-align: middle;\n",
       "    }\n",
       "\n",
       "    .dataframe tbody tr th {\n",
       "        vertical-align: top;\n",
       "    }\n",
       "\n",
       "    .dataframe thead th {\n",
       "        text-align: right;\n",
       "    }\n",
       "</style>\n",
       "<table border=\"1\" class=\"dataframe\">\n",
       "  <thead>\n",
       "    <tr style=\"text-align: right;\">\n",
       "      <th></th>\n",
       "      <th>x</th>\n",
       "      <th>y</th>\n",
       "      <th>z</th>\n",
       "    </tr>\n",
       "  </thead>\n",
       "  <tbody>\n",
       "    <tr>\n",
       "      <th>0</th>\n",
       "      <td>5</td>\n",
       "      <td>3</td>\n",
       "      <td>2</td>\n",
       "    </tr>\n",
       "    <tr>\n",
       "      <th>2</th>\n",
       "      <td>10</td>\n",
       "      <td>9</td>\n",
       "      <td>8</td>\n",
       "    </tr>\n",
       "  </tbody>\n",
       "</table>\n",
       "</div>"
      ],
      "text/plain": [
       "    x  y  z\n",
       "0   5  3  2\n",
       "2  10  9  8"
      ]
     },
     "execution_count": 9,
     "metadata": {},
     "output_type": "execute_result"
    }
   ],
   "source": [
    "df.query('x>y>z')"
   ]
  },
  {
   "cell_type": "markdown",
   "id": "3cfa814d-8fbe-4ee2-888c-8673a97290ae",
   "metadata": {},
   "source": [
    "## 11.\n",
    "\n",
    "Index of a DataFrame cannot be non-numeric.\n",
    "\n",
    "\n",
    "```text\n",
    "A: True\n",
    "B: False\n",
    "```"
   ]
  },
  {
   "cell_type": "markdown",
   "id": "9bb4ec56-3b6b-4944-a2cb-8418054dc7f7",
   "metadata": {},
   "source": [
    "## 12.\n",
    "\n",
    "The groupby method on DataFrame is associated with what types of operations?\n",
    "\n",
    "```text\n",
    "A: split-align-combine\n",
    "B: split-apply-combine\n",
    "C: sort-align-combine\n",
    "D: sort-apply-collate\n",
    "```"
   ]
  }
 ],
 "metadata": {
  "kernelspec": {
   "display_name": "Python 3",
   "language": "python",
   "name": "python3"
  },
  "language_info": {
   "codemirror_mode": {
    "name": "ipython",
    "version": 3
   },
   "file_extension": ".py",
   "mimetype": "text/x-python",
   "name": "python",
   "nbconvert_exporter": "python",
   "pygments_lexer": "ipython3",
   "version": "3.11.6"
  }
 },
 "nbformat": 4,
 "nbformat_minor": 5
}
