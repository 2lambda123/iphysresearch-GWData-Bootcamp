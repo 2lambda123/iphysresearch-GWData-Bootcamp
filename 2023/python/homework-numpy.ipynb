{
 "cells": [
  {
   "cell_type": "markdown",
   "id": "4d4a5227-acdf-4c73-b829-c4687bd017ba",
   "metadata": {},
   "source": [
    "# Numpy quiz\n"
   ]
  },
  {
   "cell_type": "markdown",
   "id": "65763c38-432e-4e12-9820-ee096247a2fd",
   "metadata": {},
   "source": [
    "## 1.\n",
    "\n",
    "```python\n",
    "import numpy as np\n",
    "\n",
    "ary = np.array([1,2,3,5,8])\n",
    "\n",
    "ary = ary + 1\n",
    "\n",
    "print (ary[1])\n",
    "```\n",
    "\n",
    "上面代码的输出结果是？C\n",
    "\n",
    "```text\n",
    "A: 1\n",
    "B: 2\n",
    "C: 3\n",
    "D: 4\n",
    "E: 5\n",
    "```\n"
   ]
  },
  {
   "cell_type": "code",
   "execution_count": 1,
   "metadata": {},
   "outputs": [
    {
     "name": "stdout",
     "output_type": "stream",
     "text": [
      "3\n"
     ]
    }
   ],
   "source": [
    "import numpy as np\n",
    "\n",
    "ary = np.array([1,2,3,5,8])\n",
    "\n",
    "ary = ary + 1\n",
    "\n",
    "print (ary[1])"
   ]
  },
  {
   "cell_type": "markdown",
   "id": "7f01bb1c-69c0-4904-8afc-bf0a0c474cfe",
   "metadata": {},
   "source": [
    "## 2.\n",
    "\n",
    "```python\n",
    "import numpy as np\n",
    "\n",
    "a = np.array([1,2,3,5,8])\n",
    "b = np.array([0,3,4,2,1])\n",
    "c = a + b\n",
    "c = c*a\n",
    "\n",
    "print (c[2])\n",
    "```\n",
    "\n",
    "上面代码的输出结果是？D\n",
    "\n",
    "```text\n",
    "A: 7\n",
    "B: 12\n",
    "C: 10\n",
    "D: 21\n",
    "E: 28\n",
    "```"
   ]
  },
  {
   "cell_type": "code",
   "execution_count": 2,
   "metadata": {},
   "outputs": [
    {
     "name": "stdout",
     "output_type": "stream",
     "text": [
      "21\n"
     ]
    }
   ],
   "source": [
    "a = np.array([1,2,3,5,8])\n",
    "b = np.array([0,3,4,2,1])\n",
    "c = a + b\n",
    "c = c*a\n",
    "\n",
    "print (c[2])"
   ]
  },
  {
   "cell_type": "markdown",
   "id": "5984099c-2a54-4a7d-8c04-36fa6a166619",
   "metadata": {
    "tags": []
   },
   "source": [
    "## 3.\n",
    "\n",
    "```python\n",
    "import numpy as np\n",
    "\n",
    "a = np.array([1,2,3,5,8])\n",
    "print (a.ndim)\n",
    "```\n",
    "\n",
    "上面代码的输出结果是？B\n",
    "\n",
    "```text\n",
    "A: 0\n",
    "B: 1\n",
    "C: 2\n",
    "D: 3\n",
    "E: 5\n",
    "```"
   ]
  },
  {
   "cell_type": "code",
   "execution_count": 3,
   "metadata": {},
   "outputs": [
    {
     "name": "stdout",
     "output_type": "stream",
     "text": [
      "1\n"
     ]
    }
   ],
   "source": [
    "a = np.array([1,2,3,5,8])\n",
    "print (a.ndim)"
   ]
  },
  {
   "cell_type": "markdown",
   "id": "63420722-b473-4036-84e4-0b5ee31d3070",
   "metadata": {
    "tags": []
   },
   "source": [
    "## 4.\n",
    "\n",
    "```python\n",
    "import numpy as np\n",
    "\n",
    "a = np.array([[1,2,3],[0,1,4]])\n",
    "print (a.size)\n",
    "```\n",
    "\n",
    "上面代码的输出结果是？E\n",
    "\n",
    "```text\n",
    "A: 0\n",
    "B: 1\n",
    "C: 2\n",
    "D: 5\n",
    "E: 6\n",
    "```"
   ]
  },
  {
   "cell_type": "code",
   "execution_count": 4,
   "metadata": {},
   "outputs": [
    {
     "name": "stdout",
     "output_type": "stream",
     "text": [
      "6\n"
     ]
    }
   ],
   "source": [
    "a = np.array([[1,2,3],[0,1,4]])\n",
    "print (a.size)"
   ]
  },
  {
   "cell_type": "markdown",
   "id": "b7d0a980-8eb5-4963-9ac0-afa99b0b77fb",
   "metadata": {
    "tags": []
   },
   "source": [
    "## 5.\n",
    "\n",
    "```python\n",
    "import numpy as np\n",
    "\n",
    "a = np.array([[1,2,3],[0,1,4]])\n",
    "b = np.zeros((2,3), dtype=np.int16)\n",
    "c = np.ones((2,3), dtype=np.int16)\n",
    "d = a + b + c\n",
    "print (d[1,2] )\n",
    "```\n",
    "\n",
    "上面代码的输出结果是？C\n",
    "\n",
    "```text\n",
    "A: 0\n",
    "B: 1\n",
    "C: 5\n",
    "D: 8\n",
    "E: An exception is thrown\n",
    "```"
   ]
  },
  {
   "cell_type": "code",
   "execution_count": 5,
   "metadata": {},
   "outputs": [
    {
     "name": "stdout",
     "output_type": "stream",
     "text": [
      "5\n"
     ]
    }
   ],
   "source": [
    "a = np.array([[1,2,3],[0,1,4]])\n",
    "b = np.zeros((2,3), dtype=np.int16)\n",
    "c = np.ones((2,3), dtype=np.int16)\n",
    "d = a + b + c\n",
    "print (d[1,2] )"
   ]
  },
  {
   "cell_type": "markdown",
   "id": "3e3412c4-3ec1-4b16-a5d2-376865c43618",
   "metadata": {
    "tags": []
   },
   "source": [
    "## 6.\n",
    "\n",
    "```python\n",
    "import numpy as np\n",
    "\n",
    "a = np.array([1,2,3,4,5])\n",
    "b = np.arange(0,10,2)\n",
    "c = a + b\n",
    "print (c[4])\n",
    "```\n",
    "\n",
    "上面代码的输出结果是？C\n",
    "\n",
    "```text\n",
    "A: 4\n",
    "B: 5\n",
    "C: 13\n",
    "D: 15\n",
    "E: An exception is thrown\n",
    "```"
   ]
  },
  {
   "cell_type": "code",
   "execution_count": 6,
   "metadata": {},
   "outputs": [
    {
     "name": "stdout",
     "output_type": "stream",
     "text": [
      "13\n"
     ]
    }
   ],
   "source": [
    "a = np.array([1,2,3,4,5])\n",
    "b = np.arange(0,10,2)\n",
    "c = a + b\n",
    "print (c[4])"
   ]
  },
  {
   "cell_type": "markdown",
   "id": "d73b87e6-3aa7-4d3b-be16-beed285c99a4",
   "metadata": {
    "tags": []
   },
   "source": [
    "## 7.\n",
    "\n",
    "```python\n",
    "import numpy as np\n",
    "\n",
    "a = np.zeros(6)\n",
    "b = np.arange(0,10,2)\n",
    "c = a + b\n",
    "print (c[4])\n",
    "```\n",
    "\n",
    "上面代码的输出结果是？E\n",
    "\n",
    "```text\n",
    "A: 0\n",
    "B: 2\n",
    "C: 8\n",
    "D: 10\n",
    "E: An exception is thrown\n",
    "```"
   ]
  },
  {
   "cell_type": "code",
   "execution_count": 7,
   "metadata": {},
   "outputs": [
    {
     "ename": "ValueError",
     "evalue": "operands could not be broadcast together with shapes (6,) (5,) ",
     "output_type": "error",
     "traceback": [
      "\u001b[0;31m---------------------------------------------------------------------------\u001b[0m",
      "\u001b[0;31mValueError\u001b[0m                                Traceback (most recent call last)",
      "\u001b[1;32m/Users/zhangjiabao/HEP/Lessons/GWcamp/GWData-Bootcamp/2023/python/homework-numpy.ipynb Cell 15\u001b[0m line \u001b[0;36m3\n\u001b[1;32m      <a href='vscode-notebook-cell:/Users/zhangjiabao/HEP/Lessons/GWcamp/GWData-Bootcamp/2023/python/homework-numpy.ipynb#X23sZmlsZQ%3D%3D?line=0'>1</a>\u001b[0m a \u001b[39m=\u001b[39m np\u001b[39m.\u001b[39mzeros(\u001b[39m6\u001b[39m)\n\u001b[1;32m      <a href='vscode-notebook-cell:/Users/zhangjiabao/HEP/Lessons/GWcamp/GWData-Bootcamp/2023/python/homework-numpy.ipynb#X23sZmlsZQ%3D%3D?line=1'>2</a>\u001b[0m b \u001b[39m=\u001b[39m np\u001b[39m.\u001b[39marange(\u001b[39m0\u001b[39m,\u001b[39m10\u001b[39m,\u001b[39m2\u001b[39m)\n\u001b[0;32m----> <a href='vscode-notebook-cell:/Users/zhangjiabao/HEP/Lessons/GWcamp/GWData-Bootcamp/2023/python/homework-numpy.ipynb#X23sZmlsZQ%3D%3D?line=2'>3</a>\u001b[0m c \u001b[39m=\u001b[39m a \u001b[39m+\u001b[39;49m b\n\u001b[1;32m      <a href='vscode-notebook-cell:/Users/zhangjiabao/HEP/Lessons/GWcamp/GWData-Bootcamp/2023/python/homework-numpy.ipynb#X23sZmlsZQ%3D%3D?line=3'>4</a>\u001b[0m \u001b[39mprint\u001b[39m (c[\u001b[39m4\u001b[39m])\n",
      "\u001b[0;31mValueError\u001b[0m: operands could not be broadcast together with shapes (6,) (5,) "
     ]
    }
   ],
   "source": [
    "a = np.zeros(6)\n",
    "b = np.arange(0,10,2)\n",
    "c = a + b\n",
    "print (c[4])"
   ]
  },
  {
   "cell_type": "markdown",
   "id": "3553f3d4-0682-4161-a07f-3ebdc4c4e4c8",
   "metadata": {
    "tags": []
   },
   "source": [
    "## 8.\n",
    "\n",
    "```python\n",
    "import numpy as np\n",
    "\n",
    "a = np.array([[0, 1, 0], [1, 0, 1]])\n",
    "a += 3\n",
    "b = a + 3\n",
    "print (a[1,2] + b[1,2])\n",
    "```\n",
    "\n",
    "上面代码的输出结果是？C\n",
    "\n",
    "```text\n",
    "A: 2\n",
    "B: 8\n",
    "C: 11\n",
    "D: 14\n",
    "E: An exception is thrown\n",
    "```"
   ]
  },
  {
   "cell_type": "code",
   "execution_count": 8,
   "metadata": {},
   "outputs": [
    {
     "name": "stdout",
     "output_type": "stream",
     "text": [
      "11\n"
     ]
    }
   ],
   "source": [
    "a = np.array([[0, 1, 0], [1, 0, 1]])\n",
    "a += 3\n",
    "b = a + 3\n",
    "print (a[1,2] + b[1,2])"
   ]
  },
  {
   "cell_type": "markdown",
   "id": "d545dbd2-45a6-4905-8252-f843f8a79c29",
   "metadata": {
    "tags": []
   },
   "source": [
    "## 9.\n",
    "\n",
    "```python\n",
    "import numpy as np\n",
    "\n",
    "a = np.array([[0, 1, 2], [3, 4, 5]])\n",
    "b = a.sum(axis=1)\n",
    "print (b)\n",
    "```\n",
    "\n",
    "上面代码的输出结果是？C\n",
    "\n",
    "```text\n",
    "A: 3\n",
    "B: 12\n",
    "C: [3, 12]\n",
    "D: [3, 5, 7]\n",
    "E: An exception is thrown\n",
    "```"
   ]
  },
  {
   "cell_type": "code",
   "execution_count": 9,
   "metadata": {},
   "outputs": [
    {
     "name": "stdout",
     "output_type": "stream",
     "text": [
      "[ 3 12]\n"
     ]
    }
   ],
   "source": [
    "a = np.array([[0, 1, 2], [3, 4, 5]])\n",
    "b = a.sum(axis=1)\n",
    "print (b)"
   ]
  },
  {
   "cell_type": "markdown",
   "id": "3319b906-6cba-4b3b-ab9c-032ecd71027e",
   "metadata": {
    "tags": []
   },
   "source": [
    "## 10.\n",
    "\n",
    "```python\n",
    "import numpy as np\n",
    "\n",
    "a = np.array([[0, 1, 2], [3, 4, 5]])\n",
    "b = a.ravel()\n",
    "print (b[0,0])\n",
    "```\n",
    "\n",
    "上面代码的输出结果是？E\n",
    "\n",
    "```text\n",
    "A: 0\n",
    "B: 3\n",
    "C: 9\n",
    "D: 10\n",
    "E: An exception is thrown\n",
    "```"
   ]
  },
  {
   "cell_type": "code",
   "execution_count": 10,
   "metadata": {},
   "outputs": [
    {
     "ename": "IndexError",
     "evalue": "too many indices for array: array is 1-dimensional, but 2 were indexed",
     "output_type": "error",
     "traceback": [
      "\u001b[0;31m---------------------------------------------------------------------------\u001b[0m",
      "\u001b[0;31mIndexError\u001b[0m                                Traceback (most recent call last)",
      "\u001b[1;32m/Users/zhangjiabao/HEP/Lessons/GWcamp/GWData-Bootcamp/2023/python/homework-numpy.ipynb Cell 21\u001b[0m line \u001b[0;36m3\n\u001b[1;32m      <a href='vscode-notebook-cell:/Users/zhangjiabao/HEP/Lessons/GWcamp/GWData-Bootcamp/2023/python/homework-numpy.ipynb#X26sZmlsZQ%3D%3D?line=0'>1</a>\u001b[0m a \u001b[39m=\u001b[39m np\u001b[39m.\u001b[39marray([[\u001b[39m0\u001b[39m, \u001b[39m1\u001b[39m, \u001b[39m2\u001b[39m], [\u001b[39m3\u001b[39m, \u001b[39m4\u001b[39m, \u001b[39m5\u001b[39m]])\n\u001b[1;32m      <a href='vscode-notebook-cell:/Users/zhangjiabao/HEP/Lessons/GWcamp/GWData-Bootcamp/2023/python/homework-numpy.ipynb#X26sZmlsZQ%3D%3D?line=1'>2</a>\u001b[0m b \u001b[39m=\u001b[39m a\u001b[39m.\u001b[39mravel()\n\u001b[0;32m----> <a href='vscode-notebook-cell:/Users/zhangjiabao/HEP/Lessons/GWcamp/GWData-Bootcamp/2023/python/homework-numpy.ipynb#X26sZmlsZQ%3D%3D?line=2'>3</a>\u001b[0m \u001b[39mprint\u001b[39m (b[\u001b[39m0\u001b[39;49m,\u001b[39m0\u001b[39;49m])\n",
      "\u001b[0;31mIndexError\u001b[0m: too many indices for array: array is 1-dimensional, but 2 were indexed"
     ]
    }
   ],
   "source": [
    "a = np.array([[0, 1, 2], [3, 4, 5]])\n",
    "b = a.ravel()\n",
    "print (b[0,0])"
   ]
  },
  {
   "cell_type": "code",
   "execution_count": null,
   "metadata": {},
   "outputs": [],
   "source": []
  }
 ],
 "metadata": {
  "kernelspec": {
   "display_name": "Python 3",
   "language": "python",
   "name": "python3"
  },
  "language_info": {
   "codemirror_mode": {
    "name": "ipython",
    "version": 3
   },
   "file_extension": ".py",
   "mimetype": "text/x-python",
   "name": "python",
   "nbconvert_exporter": "python",
   "pygments_lexer": "ipython3",
   "version": "3.11.6"
  }
 },
 "nbformat": 4,
 "nbformat_minor": 5
}
